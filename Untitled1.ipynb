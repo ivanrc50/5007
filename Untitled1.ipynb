{
  "nbformat": 4,
  "nbformat_minor": 0,
  "metadata": {
    "colab": {
      "provenance": [],
      "authorship_tag": "ABX9TyN/YuMMaPwjJ7vUE0Bvnh5F",
      "include_colab_link": true
    },
    "kernelspec": {
      "name": "python3",
      "display_name": "Python 3"
    },
    "language_info": {
      "name": "python"
    }
  },
  "cells": [
    {
      "cell_type": "markdown",
      "metadata": {
        "id": "view-in-github",
        "colab_type": "text"
      },
      "source": [
        "<a href=\"https://colab.research.google.com/github/ivanrc50/5007/blob/main/Untitled1.ipynb\" target=\"_parent\"><img src=\"https://colab.research.google.com/assets/colab-badge.svg\" alt=\"Open In Colab\"/></a>"
      ]
    },
    {
      "cell_type": "code",
      "execution_count": null,
      "metadata": {
        "id": "GfpyYStddAZn"
      },
      "outputs": [],
      "source": [
        "import random\n",
        "import time\n",
        "\n",
        "def crear_tablero(tamaño):\n",
        "    return [['?' for _ in range(tamaño)] for _ in range(tamaño)]\n",
        "\n",
        "def imprimir_tablero(tablero):\n",
        "    for fila in tablero:\n",
        "        print(' '.join(fila))\n",
        "\n",
        "def colocar_signos_aleatorios(tablero, signos):\n",
        "    tamaño = len(tablero)\n",
        "    for i in range(tamaño):\n",
        "        for j in range(tamaño):\n",
        "            tablero[i][j] = random.choice(signos)\n",
        "\n",
        "def ocultar_signo(tablero, signo):\n",
        "    tamaño = len(tablero)\n",
        "    fila_oculta = random.randint(0, tamaño - 1)\n",
        "    columna_oculta = random.randint(0, tamaño - 1)\n",
        "    signo_oculto = tablero[fila_oculta][columna_oculta]\n",
        "    tablero[fila_oculta][columna_oculta] = signo\n",
        "    return fila_oculta, columna_oculta, signo_oculto\n",
        "\n",
        "def principal():\n",
        "    tamaño = int(input(\"Ingrese el tamaño del tablero: \"))\n",
        "    signos = ['P:', '#', '@', '$', ':D']\n",
        "    tablero = crear_tablero(tamaño)\n",
        "    jugar_nuevamente = True\n",
        "\n",
        "    while jugar_nuevamente:\n",
        "        print(\"\\nNuevo juego comenzando...\")\n",
        "        colocar_signos_aleatorios(tablero, signos)\n",
        "        imprimir_tablero(tablero)\n",
        "        time.sleep(5)\n",
        "\n",
        "        print(\"\\n¡Encuentra el símbolo oculto!\\n\")\n",
        "        fila_oculta, columna_oculta, signo_oculto = ocultar_signo(tablero, 'X')\n",
        "        imprimir_tablero(tablero)\n",
        "        suposicion = input(\"Ingrese su suposición: \")\n",
        "\n",
        "        if suposicion == signo_oculto:\n",
        "            print(\"¡Correcto! El símbolo oculto era\", signo_oculto)\n",
        "        else:\n",
        "            print(\"Incorrecto. El símbolo oculto era\", signo_oculto)\n",
        "\n",
        "        continuar_jugando = input(\"¿Quiere seguir jugando? (s/n): \")\n",
        "        jugar_nuevamente = continuar_jugando.lower() == 's'\n",
        "\n",
        "if __name__ == \"__main__\":\n",
        "    principal()"
      ]
    }
  ]
}